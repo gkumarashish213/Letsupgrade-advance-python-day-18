{
 "cells": [
  {
   "cell_type": "markdown",
   "metadata": {},
   "source": [
    "# write a program to find the given string in the root directory that contains a text file\n",
    "1. In a recursive manner (case in sensitive )\n",
    "2. only in the root directory\n",
    "use command line arguments.\n",
    "program_name -ri string root_dir (recursive)\n",
    "program_name -si string root_dir (root director )\n",
    "The output which file and line contains the string"
   ]
  },
  {
   "cell_type": "code",
   "execution_count": 1,
   "metadata": {},
   "outputs": [
    {
     "name": "stdout",
     "output_type": "stream",
     "text": [
      "1\n",
      "0\n",
      "1\n"
     ]
    }
   ],
   "source": [
    "def exactMatch(text, pat, text_index, pat_index): \n",
    "\tif text_index == len(text) and pat_index != len(pat): \n",
    "\t\treturn 0\n",
    "\n",
    "\t# Else If last character of pattern reaches \n",
    "\tif pat_index == len(pat): \n",
    "\t\treturn 1\n",
    "\n",
    "\tif text[text_index] == pat[pat_index]: \n",
    "\t\treturn exactMatch(text, pat, text_index+1, pat_index+1) \n",
    "\n",
    "\treturn 0\n",
    "\n",
    "\n",
    "# This function returns true if 'text' contain 'pat' \n",
    "def contains(text, pat, text_index, pat_index): \n",
    "\t# If last character of text reaches \n",
    "\tif text_index == len(text): \n",
    "\t\treturn 0\n",
    "\n",
    "\t# If current characters of pat and text match \n",
    "\tif text[text_index] == pat[pat_index]: \n",
    "\t\tif exactMatch(text, pat, text_index, pat_index): \n",
    "\t\t\treturn 1\n",
    "\t\telse: \n",
    "\t\t\treturn contains(text, pat, text_index+1, pat_index) \n",
    "\n",
    "\t# If current characters of pat and tex don't match \n",
    "\treturn contains(text , pat, text_index+1, pat_index) \n",
    "\n",
    "# Driver program to test the above function \n",
    "\n",
    "print(contains(\"geeksforgeeks\", \"geeks\", 0, 0)) \n",
    "print(contains(\"geeksforgeeks\", \"geeksquiz\", 0, 0)) \n",
    "print(contains(\"geeksquizgeeks\", \"quiz\", 0, 0)) "
   ]
  },
  {
   "cell_type": "code",
   "execution_count": null,
   "metadata": {},
   "outputs": [],
   "source": []
  }
 ],
 "metadata": {
  "kernelspec": {
   "display_name": "Python 3",
   "language": "python",
   "name": "python3"
  },
  "language_info": {
   "codemirror_mode": {
    "name": "ipython",
    "version": 3
   },
   "file_extension": ".py",
   "mimetype": "text/x-python",
   "name": "python",
   "nbconvert_exporter": "python",
   "pygments_lexer": "ipython3",
   "version": "3.7.4"
  }
 },
 "nbformat": 4,
 "nbformat_minor": 2
}
